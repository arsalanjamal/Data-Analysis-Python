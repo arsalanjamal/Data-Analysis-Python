{
 "cells": [
  {
   "cell_type": "code",
   "execution_count": null,
   "id": "d35a89c5",
   "metadata": {},
   "outputs": [],
   "source": [
    "#importing numpy\n",
    "import numpy as np"
   ]
  },
  {
   "cell_type": "code",
   "execution_count": null,
   "id": "05388a15",
   "metadata": {},
   "outputs": [],
   "source": [
    "#import pandas\n",
    "import pandas as pd"
   ]
  },
  {
   "cell_type": "code",
   "execution_count": null,
   "id": "4b12682b",
   "metadata": {},
   "outputs": [],
   "source": [
    "#importing matplotlib\n",
    "import matplotlib.pyplot as plt\n"
   ]
  },
  {
   "cell_type": "code",
   "execution_count": null,
   "id": "eb9bc897",
   "metadata": {},
   "outputs": [],
   "source": [
    "#creating series with pandas\n"
   ]
  },
  {
   "cell_type": "code",
   "execution_count": null,
   "id": "7cf2255b",
   "metadata": {},
   "outputs": [],
   "source": [
    "#creating data frame\n",
    "df.head()"
   ]
  },
  {
   "cell_type": "code",
   "execution_count": null,
   "id": "84dc373b",
   "metadata": {},
   "outputs": [],
   "source": [
    "#how to view the top and bottom rows of a data frame\n",
    "df.tail()"
   ]
  },
  {
   "cell_type": "code",
   "execution_count": null,
   "id": "237b5d60",
   "metadata": {},
   "outputs": [],
   "source": [
    "#Display the data types of Data Frame values"
   ]
  },
  {
   "cell_type": "code",
   "execution_count": null,
   "id": "9a1947bc",
   "metadata": {},
   "outputs": [],
   "source": [
    "#how to display the columns"
   ]
  },
  {
   "cell_type": "code",
   "execution_count": null,
   "id": "3a3459b8",
   "metadata": {},
   "outputs": [],
   "source": [
    "#converting to numpy array"
   ]
  },
  {
   "cell_type": "code",
   "execution_count": null,
   "id": "53891db3",
   "metadata": {},
   "outputs": [],
   "source": [
    "#show quick summary of your data"
   ]
  },
  {
   "cell_type": "code",
   "execution_count": null,
   "id": "9f6a9828",
   "metadata": {},
   "outputs": [],
   "source": [
    "#transposing data"
   ]
  },
  {
   "cell_type": "code",
   "execution_count": null,
   "id": "74608328",
   "metadata": {},
   "outputs": [],
   "source": [
    "#sort by axis"
   ]
  },
  {
   "cell_type": "code",
   "execution_count": null,
   "id": "5c968e9d",
   "metadata": {},
   "outputs": [],
   "source": [
    "#sort by values"
   ]
  },
  {
   "cell_type": "code",
   "execution_count": null,
   "id": "f6a123a2",
   "metadata": {},
   "outputs": [],
   "source": [
    "#selecting a single column"
   ]
  },
  {
   "cell_type": "code",
   "execution_count": null,
   "id": "e954c152",
   "metadata": {},
   "outputs": [],
   "source": [
    "#selecting by index"
   ]
  },
  {
   "cell_type": "code",
   "execution_count": null,
   "id": "84d6822d",
   "metadata": {},
   "outputs": [],
   "source": [
    "#performing a descriptive statistics"
   ]
  },
  {
   "cell_type": "code",
   "execution_count": null,
   "id": "d5a202dd",
   "metadata": {},
   "outputs": [],
   "source": [
    "#writing to an excel"
   ]
  },
  {
   "cell_type": "code",
   "execution_count": null,
   "id": "0d8c3cb9",
   "metadata": {},
   "outputs": [],
   "source": [
    "#reading from an excel file"
   ]
  },
  {
   "cell_type": "code",
   "execution_count": null,
   "id": "118dd8f5",
   "metadata": {},
   "outputs": [],
   "source": [
    "#writing to a csv"
   ]
  },
  {
   "cell_type": "code",
   "execution_count": null,
   "id": "dc69738c",
   "metadata": {},
   "outputs": [],
   "source": [
    "#reading from a csv"
   ]
  },
  {
   "cell_type": "code",
   "execution_count": null,
   "id": "8a3ad353",
   "metadata": {},
   "outputs": [],
   "source": [
    "#Grouping\n",
    "#By “group by” we are referring to a process involving one or more of the following steps:\n",
    "\n",
    ".Splitting the data into groups based on some criteria\n",
    ".Applying a function to each group independently\n",
    ".Combining the results into a data structure"
   ]
  },
  {
   "cell_type": "code",
   "execution_count": null,
   "id": "63ac7652",
   "metadata": {},
   "outputs": [],
   "source": [
    "#Histogramming"
   ]
  },
  {
   "cell_type": "code",
   "execution_count": null,
   "id": "b2fcba4d",
   "metadata": {},
   "outputs": [],
   "source": []
  }
 ],
 "metadata": {
  "kernelspec": {
   "display_name": "Python 3 (ipykernel)",
   "language": "python",
   "name": "python3"
  },
  "language_info": {
   "codemirror_mode": {
    "name": "ipython",
    "version": 3
   },
   "file_extension": ".py",
   "mimetype": "text/x-python",
   "name": "python",
   "nbconvert_exporter": "python",
   "pygments_lexer": "ipython3",
   "version": "3.9.12"
  }
 },
 "nbformat": 4,
 "nbformat_minor": 5
}
